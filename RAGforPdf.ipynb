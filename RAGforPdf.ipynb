{
 "cells": [
  {
   "cell_type": "markdown",
   "id": "84939180",
   "metadata": {},
   "source": [
    "### RAG with PDF Data extraction to give context to LLM"
   ]
  },
  {
   "cell_type": "code",
   "execution_count": 1,
   "id": "9a39a5ac",
   "metadata": {},
   "outputs": [
    {
     "name": "stdout",
     "output_type": "stream",
     "text": [
      "Collecting pypdf\n",
      "  Downloading pypdf-6.0.0-py3-none-any.whl.metadata (7.1 kB)\n",
      "Downloading pypdf-6.0.0-py3-none-any.whl (310 kB)\n",
      "Installing collected packages: pypdf\n",
      "Successfully installed pypdf-6.0.0\n"
     ]
    }
   ],
   "source": [
    "!pip install pypdf"
   ]
  },
  {
   "cell_type": "code",
   "execution_count": 1,
   "id": "fe7dc2a4",
   "metadata": {},
   "outputs": [],
   "source": [
    "from dotenv import load_dotenv\n",
    "load = load_dotenv('./../.env')\n"
   ]
  },
  {
   "cell_type": "code",
   "execution_count": 2,
   "id": "fd3706fb",
   "metadata": {},
   "outputs": [],
   "source": [
    "from langchain_ollama import ChatOllama\n",
    "\n",
    "llm = ChatOllama(\n",
    "    base_url=\"http://localhost:11434\",\n",
    "    model=\"gemma3:1b\",\n",
    "    temperature=0.5,\n",
    "    max_tokens=250\n",
    ")"
   ]
  },
  {
   "cell_type": "markdown",
   "id": "b9601c32",
   "metadata": {},
   "source": [
    "### 1. Extracting the PDF files"
   ]
  },
  {
   "cell_type": "code",
   "execution_count": 3,
   "id": "c86cdb0f",
   "metadata": {},
   "outputs": [
    {
     "name": "stdout",
     "output_type": "stream",
     "text": [
      "316\n"
     ]
    }
   ],
   "source": [
    "from langchain_community.document_loaders import PyPDFLoader\n",
    "\n",
    "pdf1 = \"./attention.pdf\"\n",
    "pdf2 = './LLMForgetting.pdf'\n",
    "pdf3 = \"./TestingAndEvaluatingLLM.pdf\"\n",
    "pdf4 = './hieu-ve-trai-tim.pdf'\n",
    "pdf5 = \"./zlib.pub_unlocking-the-customer-value-chain.pdf\"\n",
    "\n",
    "pdfFiles = [pdf5]\n",
    "\n",
    "documents = []\n",
    "\n",
    "for pdf in pdfFiles:\n",
    "    loader = PyPDFLoader(pdf)\n",
    "    documents.extend(loader.load())\n",
    "\n",
    "print(len(documents))"
   ]
  },
  {
   "cell_type": "code",
   "execution_count": 4,
   "id": "11152bfc",
   "metadata": {},
   "outputs": [
    {
     "name": "stdout",
     "output_type": "stream",
     "text": [
      "[Document(metadata={'producer': 'calibre 2.53.0 [http://calibre-ebook.com]', 'creator': 'calibre 2.53.0 [http://calibre-ebook.com]', 'creationdate': '2017-04-14T13:28:12+00:00', 'author': 'Minh Niệm', 'title': 'Hiểu Về Trái Tim', 'source': './hieu-ve-trai-tim.pdf', 'total_pages': 279, 'page': 0, 'page_label': '1'}, page_content='')]\n"
     ]
    }
   ],
   "source": [
    "print(documents[:1])"
   ]
  },
  {
   "cell_type": "markdown",
   "id": "d782b0e9",
   "metadata": {},
   "source": [
    "### Text Splitting"
   ]
  },
  {
   "cell_type": "code",
   "execution_count": 4,
   "id": "dd168051",
   "metadata": {},
   "outputs": [
    {
     "data": {
      "text/plain": [
       "842"
      ]
     },
     "execution_count": 4,
     "metadata": {},
     "output_type": "execute_result"
    }
   ],
   "source": [
    "from langchain_text_splitters import RecursiveCharacterTextSplitter\n",
    "\n",
    "text_splitter = RecursiveCharacterTextSplitter(chunk_size=1000, chunk_overlap=200, add_start_index=True)\n",
    "\n",
    "all_splits = text_splitter.split_documents(documents)\n",
    "\n",
    "len(all_splits)"
   ]
  },
  {
   "cell_type": "markdown",
   "id": "22539cd7",
   "metadata": {},
   "source": [
    "### 3. Embedding"
   ]
  },
  {
   "cell_type": "code",
   "execution_count": 5,
   "id": "e0723692",
   "metadata": {},
   "outputs": [
    {
     "data": {
      "text/plain": [
       "(768, 768)"
      ]
     },
     "execution_count": 5,
     "metadata": {},
     "output_type": "execute_result"
    }
   ],
   "source": [
    "from langchain_ollama import OllamaEmbeddings\n",
    "\n",
    "embeddings = OllamaEmbeddings(model=\"nomic-embed-text\")\n",
    "\n",
    "vector_1 = embeddings.embed_query(all_splits[0].page_content)\n",
    "vector_2 = embeddings.embed_query(all_splits[1].page_content)\n",
    "\n",
    "assert len(vector_1) == len(vector_2)\n",
    "len(vector_1), len(vector_2)"
   ]
  },
  {
   "cell_type": "code",
   "execution_count": 18,
   "id": "22873b92",
   "metadata": {},
   "outputs": [
    {
     "name": "stdout",
     "output_type": "stream",
     "text": [
      "^C\n"
     ]
    }
   ],
   "source": [
    "!pip install -qU langchain-chroma"
   ]
  },
  {
   "cell_type": "code",
   "execution_count": null,
   "id": "8cf4b22a",
   "metadata": {},
   "outputs": [],
   "source": []
  },
  {
   "cell_type": "code",
   "execution_count": null,
   "id": "9289a09d",
   "metadata": {},
   "outputs": [],
   "source": [
    "from langchain_chroma import Chroma\n",
    "\n",
    "vector_store = Chroma.from_documents(\n",
    "    documents=all_splits,\n",
    "    embedding=embeddings,\n",
    "    persist_directory=\"./chroma_langchain_db\",\n",
    ")"
   ]
  },
  {
   "cell_type": "code",
   "execution_count": 1,
   "id": "9d8f2847",
   "metadata": {},
   "outputs": [
    {
     "ename": "NameError",
     "evalue": "name 'vector_store' is not defined",
     "output_type": "error",
     "traceback": [
      "\u001b[31m---------------------------------------------------------------------------\u001b[39m",
      "\u001b[31mNameError\u001b[39m                                 Traceback (most recent call last)",
      "\u001b[36mCell\u001b[39m\u001b[36m \u001b[39m\u001b[32mIn[1]\u001b[39m\u001b[32m, line 1\u001b[39m\n\u001b[32m----> \u001b[39m\u001b[32m1\u001b[39m retriever = \u001b[43mvector_store\u001b[49m.as_retriever(\n\u001b[32m      2\u001b[39m     search_type=\u001b[33m\"\u001b[39m\u001b[33msimilarity\u001b[39m\u001b[33m\"\u001b[39m,\n\u001b[32m      3\u001b[39m     search_kwargs= {\u001b[33m\"\u001b[39m\u001b[33mk\u001b[39m\u001b[33m\"\u001b[39m: \u001b[32m2\u001b[39m}\n\u001b[32m      4\u001b[39m )\n\u001b[32m      6\u001b[39m \u001b[38;5;66;03m# retriever.batch([\u001b[39;00m\n\u001b[32m      7\u001b[39m \u001b[38;5;66;03m#     \"Mục lục là gì\"\u001b[39;00m\n\u001b[32m      8\u001b[39m \u001b[38;5;66;03m# ])\u001b[39;00m\n\u001b[32m     10\u001b[39m retriever.get_relevant_documents(\u001b[33m\"\u001b[39m\u001b[33mMục lục cuốn sách là gì\u001b[39m\u001b[33m\"\u001b[39m)\n",
      "\u001b[31mNameError\u001b[39m: name 'vector_store' is not defined"
     ]
    }
   ],
   "source": [
    "retriever = vector_store.as_retriever(\n",
    "    search_type=\"similarity\",\n",
    "    search_kwargs= {\"k\": 2}\n",
    ")\n",
    "\n",
    "# retriever.batch([\n",
    "#     \"Mục lục là gì\"\n",
    "# ])\n",
    "\n",
    "retriever.get_relevant_documents(\"Mục lục cuốn sách là gì\")"
   ]
  },
  {
   "cell_type": "code",
   "execution_count": 13,
   "id": "b22cc9bc",
   "metadata": {},
   "outputs": [
    {
     "name": "stdout",
     "output_type": "stream",
     "text": [
      "## Mục lục\n",
      "\n",
      "**1. Lời mở đầu:**\n",
      "\n",
      "*   Mong muốn tìm một người đặc biệt đồng hành trong cuộc đời.\n",
      "\n",
      "**2. Về Lười biếng:**\n",
      "\n",
      "*   Lười biếng không phải là phiền não lớn, nhưng là trở lực đáng sợ.\n",
      "*   Lười biếng cản trở việc thực hiện ước mơ và sống sâu sắc.\n",
      "*   Lười biếng kích động cảm xúc và dẫn đến những cơn mê bất ngờ.\n",
      "*   Vượt qua lười biếng là bước vào vương quốc của thành công.\n",
      "\n",
      "**3. Lối cũ và sự chán chường:**\n",
      "\n",
      "*   Nhìn lại lối cũ, chưa thoát khỏi rừng mê.\n",
      "*   Cảm thấy xa cách, nặng nề vì bước chân.\n",
      "*   Bận tâm nắm giữ, không thể đạt được mục tiêu.\n",
      "*   Mong muốn trở về như mây trắng, nhẹ nhàng trôi.\n",
      "\n",
      "**4. Kết luận:**\n",
      "\n",
      "*   Nỗ lực vượt qua lười biếng để luôn hăng hái là con đường dẫn đến thành công.\n",
      "\n",
      "**MD Format:**\n",
      "\n",
      "```md\n",
      "## Mục lục\n",
      "\n",
      "**1. Lời mở đầu:**\n",
      "\n",
      "*   Mong muốn tìm một người đặc biệt đồng hành trong cuộc đời.\n",
      "\n",
      "**2. Về Lười biếng:**\n",
      "\n",
      "*   Lười biếng không phải là phiền não lớn, nhưng là trở lực đáng sợ.\n",
      "*   Lười biếng cản trở việc thực hiện ước mơ và sống sâu sắc.\n",
      "*   Lười biếng kích động cảm xúc và dẫn đến những cơn mê bất ngờ.\n",
      "*   Vượt qua lười biếng là bước vào vương quốc của thành công.\n",
      "\n",
      "**3. Lối cũ và sự chán chường:**\n",
      "\n",
      "*   Nhìn lại lối cũ, chưa thoát khỏi rừng mê.\n",
      "*   Cảm thấy xa cách, nặng nề vì bước chân.\n",
      "*   Bận tâm nắm giữ, không thể đạt được mục tiêu.\n",
      "*   Mong muốn trở về như mây trắng, nhẹ nhàng trôi.\n",
      "\n",
      "**4. Kết luận:**\n",
      "\n",
      "*   Nỗ lực vượt qua lười biếng để luôn hăng hái là con đường dẫn đến thành công.\n",
      "```\n",
      "\n"
     ]
    }
   ],
   "source": [
    "from langchain_core.output_parsers import StrOutputParser\n",
    "from langchain.prompts import ChatPromptTemplate\n",
    "\n",
    "query = \"Mục lục\"\n",
    "\n",
    "retrieved_docs = retriever.get_relevant_documents(query)\n",
    "\n",
    "context_text = \"\\n\\n\".join([doc.page_content for doc in retrieved_docs])\n",
    "\n",
    "prompt_template = ChatPromptTemplate.from_template(\n",
    "    \"\"\"\n",
    "    You are an AI Assisant. Use the following context to answer the question correctly.\n",
    "    If you dont know the answer, just tell, I dont know.\n",
    "    \n",
    "    Also, summarize the response in MD format\n",
    "    \n",
    "    \"context: {context} \\n\\n\"\n",
    "    \"question: {question} \\n\\n\"\n",
    "    \"AI answer:\n",
    "    \n",
    "    \"\"\"\n",
    ")\n",
    "\n",
    "chain = prompt_template | llm | StrOutputParser()\n",
    "\n",
    "response = chain.invoke({\"context\": context_text, \"question\": query})\n",
    "\n",
    "print(response)"
   ]
  },
  {
   "cell_type": "code",
   "execution_count": 14,
   "id": "2647049b",
   "metadata": {},
   "outputs": [
    {
     "name": "stdout",
     "output_type": "stream",
     "text": [
      "Tôi không có thông tin về tác giả Minh Niệm trong đoạn văn bạn cung cấp. Đoạn văn này chỉ nói về một tác phẩm nào đó được tác giả làm mới.\n",
      "\n",
      "📕 Sources Used:\n",
      "- ./hieu-ve-trai-tim.pdf\n"
     ]
    }
   ],
   "source": [
    "from langchain.chains import RetrievalQA\n",
    "\n",
    "qa_chain = RetrievalQA.from_chain_type(llm, retriever=retriever, return_source_documents=True)\n",
    "\n",
    "question = \"Nói về tác giả Minh Niệm\"\n",
    "\n",
    "response = qa_chain.invoke(question)\n",
    "\n",
    "sources = set(doc.metadata.get(\"source\", \"Unknown\") for doc in response[\"source_documents\"])\n",
    "\n",
    "print(response['result'])\n",
    "print(\"\\n📕 Sources Used:\")\n",
    "for source in sources:\n",
    "    print(f\"- {source}\")"
   ]
  },
  {
   "cell_type": "code",
   "execution_count": 28,
   "id": "de210c2e",
   "metadata": {},
   "outputs": [
    {
     "name": "stdout",
     "output_type": "stream",
     "text": [
      "Trang 227:\n",
      "cái tã bị dơ để kịp thời giúp đỡ. Bà mẹ quan sát tinh tường ấy chính là chánh niệm (niệm tâm). Chánh niệm là \"khắc tinh\" của mọi phiền não, bởi dưới ánh sáng mạnh mẽ của chánh niệm thì mọi phiền não đều bị cô lập và tan chảy. Thế mới nói chánh niệm chính là trái tim của thiền tập. Chỉ cần phát triển chánh niệm cho vững vàng thì phiền não sẽ tự diệt mà ta không cần phải cố gắng diệt trừ nó. Phiền não vốn là hiện tượng nên cảm xúc cũng là hiện tượng. Chúng được sinh ra từ sự vận hành sai lệch của cơ chế tâm lý, mà nguyên nhân chính là do nhận thức sai lầm về bản ngã. Hãy đừng quên, ta không thể dùng ý chí đàn áp nhận thức này để thay vào bằng nhận thức khác. Điều nên làm là cần siêng năng duy trì thói quen quan sát mọi diễn biến trong tâm ở mọi tình huống thì ta sẽ nhìn ra\n",
      "--------------------------------------------------\n",
      "Trang 227:\n",
      "nó tan biến đi và nguyên nhân nào khiến nó tan biến. Quan trọng nhất không phải là triệt tiêu cho được phiền não, mà ta cần thấu hiểu cơ cấu của chúng. Nếu không hiểu được phiền não thì ta chỉ có thể đè nén chứ không bao giờ chuyển hóa được. Điều quan trọng nữa là cần quan sát thái độ của ta mỗi khi chạm mặt phiền não. Thái độ chống đối sẽ làm cho phiền não ẩn khuất hay lớn mạnh thêm. Kỹ năng này có thể mài giũa ở mọi lúc mọi nơi. Mỗi khi thấy năng lượng cảm xúc trào lên, nếu có thể thì ta hãy ngưng ngay công việc đang làm để ưu tiên quay về chăm sóc cảm xúc. Cũng giống như bà mẹ khi đang nấu nướng hoặc may vá, chợt nghe tiếng em bé khóc là lập tức tạm ngưng công việc để vào chăm sóc em bé. Chỉ cần bà mẹ ẵm em bé lên vỗ về đôi chút là em bé sẽ bớt khóc ngay. Từ từ quan sát, bà mẹ sẽ hiểu lý do nào làm em bé khóc, có thể do khát sữa hay cái tã bị dơ để kịp thời giúp đỡ. Bà mẹ quan sát tinh tường ấy chính là chánh niệm (niệm tâm). Chánh niệm là \"khắc tinh\" của mọi phiền\n",
      "--------------------------------------------------\n"
     ]
    }
   ],
   "source": [
    "from langchain_chroma import Chroma\n",
    "from langchain_ollama import OllamaEmbeddings\n",
    "\n",
    "embeddings = OllamaEmbeddings(model=\"bge-m3\")\n",
    "\n",
    "\n",
    "vector_store = Chroma(\n",
    "    persist_directory=\"./chroma_langchain_db\",\n",
    "    embedding_function=embeddings,\n",
    ")\n",
    "\n",
    "retriever = vector_store.as_retriever(\n",
    "    search_type=\"similarity\",\n",
    "    search_kwargs= {\"k\": 2}\n",
    ")\n",
    "\n",
    "docs = retriever.get_relevant_documents(\"chánh niệm\")\n",
    "\n",
    "for d in docs:\n",
    "    text = d.page_content.replace(\"\\t\", \" \").replace(\"\\n\", \" \")\n",
    "    text = \" \".join(text.split())  # gộp nhiều khoảng trắng thành 1\n",
    "    print(f\"Trang {d.metadata.get('page_label', d.metadata.get('page'))}:\")\n",
    "    print(text)\n",
    "    print(\"-\" * 50)"
   ]
  },
  {
   "cell_type": "code",
   "execution_count": null,
   "id": "1278376c",
   "metadata": {},
   "outputs": [
    {
     "name": "stdout",
     "output_type": "stream",
     "text": [
      "=== STANDARD RETRIEVER ===\n",
      "Doc 1 - Trang 47: đắp. Bởi họ không có chủ trương trao đổi công bằng ngay từ buổi đầu, nói chi là sòng phẳng. Ý niệm sòng phẳng thường dễ bị nhầm lẫn với công bằng. Anh được một và tôi cũng được một, hay anh cho tôi hai thì tôi cho anh hai, đó là công bằng. Nhưng còn tùy vào mỗi xã hội và thời đại mà quy luật công bằng sẽ được thể hiện khác nhau. Sự công bằng thường được quy định trên mức cảm xúc. Cho nên, có khi người ta tự quy định mức công bằng nếu hai bên tự thỏa thuận trị giá tương xứng giữa vật trao đổi, mà không cần tuân theo quy ước chung của cộng đồng. Thí dụ, một trái bí đao có thể đổi với hai trái mướp đắng; một chuyến đò ngang có thể đổi với sáu câu vọng cổ; một bức tranh có thể đổi lấy mười bầu rượu; một lời hứa chân tình có thể đổi lấy ba trăm sáu mươi lăm ngày chờ đợi. Tuy sự trao đổi ấy được coi là công bằng, nhưng đôi bên đều ngầm hiểu rằng người kia vì cảm tình mới chấp nhận trao đổi như vậy, nên khi nào có cơ hội thì mình sẽ bù đắp\n",
      "--------------------------------------------------\n",
      "Doc 2 - Trang 47: sáu mươi lăm ngày chờ đợi. Tuy sự trao đổi ấy được coi là công bằng, nhưng đôi bên đều ngầm hiểu rằng người kia vì cảm tình mới chấp nhận trao đổi như vậy, nên khi nào có cơ hội thì mình sẽ bù đắp thêm. Trong khi sòng phẳng là loại bỏ ý niệm muốn bù đắp, trả như thế là đủ, chấm hết. Dĩ nhiên trong thương trường rộng lớn, người ta cần phải có sự rành mạch về những trị giá vật chất để trao đổi, nên đã thiết lập ra chế độ tiền tệ để đơn giản hóa và mở rộng thương mại. Vì thế, sự sòng phẳng đã vô tình trở thành quy luật. Nhưng biết bao công lao khổ nhọc mới làm ra được bát cơm trắng tinh mà chỉ đổi ngang với vài đồng bạc thừa thì không thể gọi là công bằng được. Sòng phẳng lại càng phi lý. Nên nhớ, sự trao đổi không bao giờ là tuyệt đối, tất cả chỉ là ước lệ. Cho nên, người ta đã sai lầm khi cho rằng sự thảnh thơi, thật thà hay nhường nhịn là những yếu tố nguy hại đến kinh tế và cần phải loại trừ. Trong nguyên tắc vận hành tự nhiên của vũ trụ, mọi sự\n",
      "--------------------------------------------------\n",
      "\n",
      "=== MULTI QUERY RETRIEVER ===\n",
      "=== Prompt gửi vào LLM (dùng để sinh query phụ) ===\n",
      "Human: You are an AI language model assistant. Your task is\n",
      "    to generate 3 different versions of the given user\n",
      "    question to retrieve relevant documents from a vector  database.\n",
      "    By generating multiple perspectives on the user question,\n",
      "    your goal is to help the user overcome some of the limitations\n",
      "    of distance-based similarity search. Provide these alternative\n",
      "    questions separated by newlines. Original question: So sánh công bằng với sòng phẳng\n",
      "=============================================\n",
      "Doc 1 - Trang 6: MỤC LỤC Lời nói đầu của lần tái bản có chỉnh lý Lời giới thiệu Khổ đau Hạnh phúc Tình yêu Tình thương Tức giận Chịu đựng Ghen tuông Tha thứ Sòng phẳng Nâng đỡ Cô đơn Hiến tặng Trao thân Tạ ơn Nhàm chán Kính trọng\n",
      "--------------------------------------------------\n",
      "Doc 2 - Trang 3: hơn. Tác giả đã kiên nhẫn viết lại khá nhiều đoạn văn, thậm chí nhiều bài để đơn giản hóa ý tưởng và để chia sẻ thêm nữa những kinh nghiệm tiếp cận và chuyển hóa phiền não. So với bản in đầu tiên, riêng tôi thích bản hiệu đính súc tích này hơn. Và nếu so bản in đầu tiên với bản nguyên thủy được lưu truyền nhiều năm trước thì bản in đầu tiên lại đầy đủ và hay hơn. Điều đó cho chúng ta thấy sự tận tâm của tác giả, luôn muốn cống hiến những điều tốt đẹp và hoàn hảo nhất đến mọi người. Vì như chúng ta đã biết, diễn đạt những cung bậc cảm xúc là một việc không đơn giản chút nào. Tác phẩm Hiểu Về Trái Tim ngày càng hay hơn. Tinh thần của quyển sách đã thực sự đi vào tâm hồn và có khả năng chuyển hóa đời sống của những ai đã từng tiếp xúc với nó, đúng như câu phụ đề trong bản hiệu đính lần này: \"Hiểu Về Trái Tim - Nghệ thuật sống hạnh phúc \". Ước mong tinh thần này sẽ tiếp tục soi sáng và nâng đỡ những tâm hồn còn khổ đau hay lạc hướng vì chưa tìm thấy con\n",
      "--------------------------------------------------\n",
      "Doc 3 - Trang 7: Nghi ngờ Lắng nghe Phán xét Ái ngữ Thành kiến Làm mới Che đậy Thành thật Nguyên tắc Tùy duyên Tuyệt vọng Niềm tin Ý chí Do dự Thất bại Thành công Tham vọng Biết đủ Dựa dẫm Nương tựa Yếu đuối\n",
      "--------------------------------------------------\n",
      "Doc 4 - Trang 92: tội kẻ khác chứ ít khi để nâng đỡ. Đối với những người được giao quyền đại diện cho công lý, cho pháp luật thì bắt buộc họ phải đưa ra lời phán xét đúng hay sai để giải quyết những vấn đề có ảnh hưởng nghiêm trọng. Nhưng đó cũng là việc làm bất đắc dĩ để điều hợp xã hội, ngăn ngừa cái sai lấn át cái đúng. Bởi sự thật, không ai có đủ tư cách làm đại diện cho sự thanh cao hay chân lý để phán xét ai cả. Ai cũng có những sai trái và ai cũng có tố chất thánh thiện. Khi ta phán xét người kia, tức là ta chỉ thấy được một mặt của họ và ấn định con người họ chỉ là như vậy mãi mãi. Dù hôm qua họ không dễ thương, họ đã gây ra những vụng về hay lầm lỗi, nhưng đứng trước mặt ta hôm nay là một con người mới, một tâm hồn đã lành lặn, một cơ chế tâm thức đã chuyển hóa, thì lời phán xét kia không còn giá trị đúng đắn nữa. Dù ta cố tình không nhìn ra và không chấp nhận thì sự thật vẫn là như thế. Càng cố chấp vào thành kiến hay định kiến cũ kỹ của mình thì ta càng tụt lại phía sau của đời sống. Ta\n",
      "--------------------------------------------------\n",
      "Doc 5 - Trang 194: mà chấp nhận mở lời xin lỗi trước. Tuy nhiên, ta cũng nên thành thật cho họ biết ngay bây giờ ta vẫn chưa thấy được chỗ sai trái của mình. Xin họ hãy chỉ lỗi giúp ta, hoặc ta hứa sẽ nhìn kỹ lại mình rồi sẽ trao đổi với họ trong thời gian sớm nhất. Nếu như xin lỗi là hành động hướng tới đối tượng để hàn gắn vết thương trong tâm người khác thì sám hối là thái độ quay trở về chữa trị tì vết lỗi lầm trong tâm mình. Tất nhiên, tùy theo tình huống mà ta nên thể hiện hành động nào trước, nhưng quay về sám hối với chính mình rồi mới xin lỗi kẻ khác vẫn là giải pháp đúng đắn nhất. Sám hối phải mang hai đặc tính: ăn năn về lỗi lầm đã gây ra và quyết tâm không lặp lại lần nữa. Cả hai yếu tố này đều rất quan trọng và có liên hệ chặt chẽ với nhau. Nếu ta không thật sự ăn năn hối cải thì ta sẽ không bao giờ có quyết tâm thay đổi; và nếu ta không có quyết tâm thay đổi thì sự ăn năn hối cải kia cũng chỉ là cảm xúc nhất thời để xoa dịu vết thương trong ta mà thôi. Thay đổi chính mình để không lặp lại\n",
      "--------------------------------------------------\n",
      "Doc 6 - Trang 47: đắp. Bởi họ không có chủ trương trao đổi công bằng ngay từ buổi đầu, nói chi là sòng phẳng. Ý niệm sòng phẳng thường dễ bị nhầm lẫn với công bằng. Anh được một và tôi cũng được một, hay anh cho tôi hai thì tôi cho anh hai, đó là công bằng. Nhưng còn tùy vào mỗi xã hội và thời đại mà quy luật công bằng sẽ được thể hiện khác nhau. Sự công bằng thường được quy định trên mức cảm xúc. Cho nên, có khi người ta tự quy định mức công bằng nếu hai bên tự thỏa thuận trị giá tương xứng giữa vật trao đổi, mà không cần tuân theo quy ước chung của cộng đồng. Thí dụ, một trái bí đao có thể đổi với hai trái mướp đắng; một chuyến đò ngang có thể đổi với sáu câu vọng cổ; một bức tranh có thể đổi lấy mười bầu rượu; một lời hứa chân tình có thể đổi lấy ba trăm sáu mươi lăm ngày chờ đợi. Tuy sự trao đổi ấy được coi là công bằng, nhưng đôi bên đều ngầm hiểu rằng người kia vì cảm tình mới chấp nhận trao đổi như vậy, nên khi nào có cơ hội thì mình sẽ bù đắp\n",
      "--------------------------------------------------\n",
      "Doc 7 - Trang 47: sáu mươi lăm ngày chờ đợi. Tuy sự trao đổi ấy được coi là công bằng, nhưng đôi bên đều ngầm hiểu rằng người kia vì cảm tình mới chấp nhận trao đổi như vậy, nên khi nào có cơ hội thì mình sẽ bù đắp thêm. Trong khi sòng phẳng là loại bỏ ý niệm muốn bù đắp, trả như thế là đủ, chấm hết. Dĩ nhiên trong thương trường rộng lớn, người ta cần phải có sự rành mạch về những trị giá vật chất để trao đổi, nên đã thiết lập ra chế độ tiền tệ để đơn giản hóa và mở rộng thương mại. Vì thế, sự sòng phẳng đã vô tình trở thành quy luật. Nhưng biết bao công lao khổ nhọc mới làm ra được bát cơm trắng tinh mà chỉ đổi ngang với vài đồng bạc thừa thì không thể gọi là công bằng được. Sòng phẳng lại càng phi lý. Nên nhớ, sự trao đổi không bao giờ là tuyệt đối, tất cả chỉ là ước lệ. Cho nên, người ta đã sai lầm khi cho rằng sự thảnh thơi, thật thà hay nhường nhịn là những yếu tố nguy hại đến kinh tế và cần phải loại trừ. Trong nguyên tắc vận hành tự nhiên của vũ trụ, mọi sự\n",
      "--------------------------------------------------\n",
      "Doc 8 - Trang 78: bằng cảm xúc quá mạnh mẽ đã tố cáo sự yếu đuối và dựa dẫm trong ta. Điều quan trọng nhất là ta phải luôn giữ được phong độ của mình. Phải luôn giữ vững những điểm son mà người kia đã từng yêu quý và không ngừng chuyển hóa những yếu kém đã từng gây chướng ngại cho liên hệ đôi bên. Muốn có đủ khả năng và thiện chí để làm như vậy, bắt buộc ta phải có một năng lực mạnh mẽ dự trữ. Năng lực ấy chỉ đến từ đời sống có luyện tập, đời sống tỉnh thức. Kính trọng là nền tảng của đạo đức, là điều kiện không thể thiếu để thiết lập nền hòa bình của nhân loại. Vì khi kính trọng nhau thì những ý niệm lấn lướt hay xâm phạm quyền lợi của nhau sẽ không có cơ hội phát triển. Ta thấy được sự tồn tại của mình có liên quan mật thiết đến sự có mặt của mọi đối tượng, nên ta sẽ dùng sự tử tế và lòng chân thành để đối xử với nhau. Cách đối xử ấy là thuận theo nguyên tắc điều hợp tự nhiên của vũ trụ, mỗi cá thể đều bình đẳng với nhau\n",
      "--------------------------------------------------\n",
      "Doc 9 - Trang 155: Năm tháng dài lê thê.\n",
      "--------------------------------------------------\n",
      "Doc 10 - Trang 111: Do nhận thức sai lầm Xin quay về làm mới Trăng cũ đợi vườn tâm.\n",
      "--------------------------------------------------\n",
      "Doc 11 - Trang 108: Thí dụ: \"Trước khi nói lên những khúc mắc trong lòng, em cũng xin tự nhìn lại bản thân mình. Quả thật là em đã có nhiều thay đổi trong cách hành xử hàng ngày của mình. Em đã thường gọi điện thăm dò và buông ra những lời hờn dỗi vô cớ trong những lúc anh rất bận rộn. Khi anh hỏi em có khó khăn gì cần chia sẻ không thì em lại gạt ngang mà không một lời giải thích. Vì giận anh hay bỏ bê bữa cơm gia đình, nên có khi em cũng muốn bỏ mặc anh vào những ngày cuối tuần. Em\n",
      "--------------------------------------------------\n",
      "\n",
      "Standard: 2 docs | MultiQuery: 11 docs\n"
     ]
    }
   ],
   "source": [
    "from langchain_chroma import Chroma \n",
    "from langchain_ollama import OllamaEmbeddings, ChatOllama\n",
    "from langchain.retrievers.multi_query import MultiQueryRetriever\n",
    "from langchain.callbacks.base import BaseCallbackHandler\n",
    "from langchain.prompts import PromptTemplate\n",
    "\n",
    "custom_prompt = PromptTemplate(\n",
    "    input_variables=[\"question\"],\n",
    "    template=(\n",
    "        \"Bạn là trợ lý tìm kiếm.\\n\"\n",
    "        \"Người dùng hỏi: {question}\\n\"\n",
    "        \"Hãy sinh ra 2 câu hỏi khác nhưng phải gắn chặt với câu hỏi, \"\n",
    "        \"không được mở rộng sang mục lục hay các chương khác.\\n\"\n",
    "        \"Output từng câu một, mỗi câu trên một dòng.\"\n",
    "    )\n",
    ")\n",
    "\n",
    "# ===== Callback để in prompt (query phụ) =====\n",
    "class PrintPromptCallback(BaseCallbackHandler):\n",
    "    def on_llm_start(self, serialized, prompts, **kwargs):\n",
    "        print(\"=== Prompt gửi vào LLM (dùng để sinh query phụ) ===\")\n",
    "        for p in prompts:\n",
    "            print(p)\n",
    "        print(\"=============================================\")\n",
    "\n",
    "# ===== Embeddings + Vector Store =====\n",
    "embeddings = OllamaEmbeddings(model=\"bge-m3\") \n",
    "\n",
    "vector_store = Chroma( \n",
    "    persist_directory=\"./chroma_langchain_db\", \n",
    "    embedding_function=embeddings, \n",
    ") \n",
    "\n",
    "retriever = vector_store.as_retriever( \n",
    "    search_type=\"similarity\", \n",
    "    search_kwargs= {\"k\": 2} \n",
    ")\n",
    "\n",
    "# ===== Setup LLM + MultiQueryRetriever =====\n",
    "llm = ChatOllama(\n",
    "    base_url=\"http://localhost:11434\",\n",
    "    model=\"gemma3:1b\",\n",
    "    temperature=0.5,\n",
    "    max_tokens=250,\n",
    "    callbacks=[PrintPromptCallback()]  # 👈 thêm callback để log query phụ\n",
    ")\n",
    "\n",
    "multi_retriever = MultiQueryRetriever.from_llm(\n",
    "    retriever=retriever,\n",
    "    llm=llm,\n",
    "    include_original=True,\n",
    ")\n",
    "\n",
    "# ===== Test với query =====\n",
    "query = \"So sánh công bằng với sòng phẳng\"\n",
    "\n",
    "# ----- Standard Retriever -----\n",
    "print(\"=== STANDARD RETRIEVER ===\")\n",
    "docs = retriever.get_relevant_documents(query) \n",
    "\n",
    "for i, d in enumerate(docs, 1): \n",
    "    text = d.page_content.replace(\"\\t\", \" \").replace(\"\\n\", \" \") \n",
    "    text = \" \".join(text.split())  # gộp nhiều khoảng trắng\n",
    "    print(f\"Doc {i} - Trang {d.metadata.get('page_label', d.metadata.get('page'))}: {text}\")\n",
    "    print(\"-\" * 50)\n",
    "\n",
    "# ----- MultiQueryRetriever -----\n",
    "print(\"\\n=== MULTI QUERY RETRIEVER ===\")\n",
    "multi_docs = multi_retriever.get_relevant_documents(query)\n",
    "\n",
    "for i, d in enumerate(multi_docs, 1): \n",
    "    text = d.page_content.replace(\"\\t\", \" \").replace(\"\\n\", \" \") \n",
    "    text = \" \".join(text.split())  # gộp nhiều khoảng trắng\n",
    "    print(f\"Doc {i} - Trang {d.metadata.get('page_label', d.metadata.get('page'))}: {text}\")\n",
    "    print(\"-\" * 50)\n",
    "\n",
    "print(f\"\\nStandard: {len(docs)} docs | MultiQuery: {len(multi_docs)} docs\")\n"
   ]
  }
 ],
 "metadata": {
  "kernelspec": {
   "display_name": "myenv312",
   "language": "python",
   "name": "python3"
  },
  "language_info": {
   "codemirror_mode": {
    "name": "ipython",
    "version": 3
   },
   "file_extension": ".py",
   "mimetype": "text/x-python",
   "name": "python",
   "nbconvert_exporter": "python",
   "pygments_lexer": "ipython3",
   "version": "3.12.5"
  }
 },
 "nbformat": 4,
 "nbformat_minor": 5
}
